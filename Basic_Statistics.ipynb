{
  "nbformat": 4,
  "nbformat_minor": 0,
  "metadata": {
    "colab": {
      "name": "Basic Statistics.ipynb",
      "provenance": [],
      "collapsed_sections": [],
      "include_colab_link": true
    },
    "kernelspec": {
      "name": "python3",
      "display_name": "Python 3"
    }
  },
  "cells": [
    {
      "cell_type": "markdown",
      "metadata": {
        "id": "view-in-github",
        "colab_type": "text"
      },
      "source": [
        "<a href=\"https://colab.research.google.com/github/amit0902/Statistics/blob/main/Basic_Statistics.ipynb\" target=\"_parent\"><img src=\"https://colab.research.google.com/assets/colab-badge.svg\" alt=\"Open In Colab\"/></a>"
      ]
    },
    {
      "cell_type": "markdown",
      "metadata": {
        "id": "IQo_WmXCU1AN"
      },
      "source": [
        "#**STEPS:**\r\n",
        "##**1.** IMPORTING LIBRARIES\r\n",
        "\r\n",
        "*   PANDAS LIBRARY\r\n",
        "*   NUMPY\r\n",
        "*   PLOTTING LIBRARYS\r\n",
        "* ETC..\r\n",
        "\r\n",
        "##**2.** READ DATASET\r\n",
        "##**3.** RUN SOME BASIC FUNCTION TO FIND BASIC STATISTIC ANALYSIS\r\n",
        "##**4.** FOR MORE INSIGHT USE PANDAS LIBRARY\r\n",
        "##**5.** AFTER GOING THROUGH BASIC INSIGHT PLOT THE DATA TO GET BETTER INSIGHT FOR DISTRIBUTION OF DATA AND DRAWING RELATIONS BETWEEN CATEGORY"
      ]
    },
    {
      "cell_type": "markdown",
      "metadata": {
        "id": "xh10yvBk5zwe"
      },
      "source": [
        "#***ANALYZE DATA***\r\n",
        "\r\n",
        "---\r\n",
        "\r\n"
      ]
    },
    {
      "cell_type": "markdown",
      "metadata": {
        "id": "wtRVP9d--1GY"
      },
      "source": [
        "###*IMPORTING VARIOUS LIBRARIES TO ACCESS THEM AND US THEM FOR OUR CONVENIENCE*"
      ]
    },
    {
      "cell_type": "code",
      "metadata": {
        "id": "TAGrQdIQ-Y4D"
      },
      "source": [
        "import pandas as pd\r\n",
        "import numpy as np\r\n",
        "import matplotlib.pyplot as plt"
      ],
      "execution_count": 2,
      "outputs": []
    },
    {
      "cell_type": "markdown",
      "metadata": {
        "id": "-rO8RU6P_70R"
      },
      "source": [
        "#**READING A FILE**"
      ]
    },
    {
      "cell_type": "markdown",
      "metadata": {
        "id": "Dji4_JThCUNP"
      },
      "source": [
        "Depending on type of data to be loaded pd.read_file extension(\"Path of file.file extension\") to call data\r\n",
        "\r\n",
        "For Example to call csv file we use pd.read_csv(\"File Path.csv\")"
      ]
    },
    {
      "cell_type": "code",
      "metadata": {
        "colab": {
          "base_uri": "https://localhost:8080/",
          "height": 424
        },
        "id": "Cbjv5y6u-oIU",
        "outputId": "7d3471b0-409b-4363-d9fd-c4e8dceaf388"
      },
      "source": [
        "a=pd.read_csv(\"test.csv\")\r\n",
        "a"
      ],
      "execution_count": 3,
      "outputs": [
        {
          "output_type": "execute_result",
          "data": {
            "text/html": [
              "<div>\n",
              "<style scoped>\n",
              "    .dataframe tbody tr th:only-of-type {\n",
              "        vertical-align: middle;\n",
              "    }\n",
              "\n",
              "    .dataframe tbody tr th {\n",
              "        vertical-align: top;\n",
              "    }\n",
              "\n",
              "    .dataframe thead th {\n",
              "        text-align: right;\n",
              "    }\n",
              "</style>\n",
              "<table border=\"1\" class=\"dataframe\">\n",
              "  <thead>\n",
              "    <tr style=\"text-align: right;\">\n",
              "      <th></th>\n",
              "      <th>ID</th>\n",
              "      <th>datetime</th>\n",
              "      <th>temperature</th>\n",
              "      <th>var1</th>\n",
              "      <th>pressure</th>\n",
              "      <th>windspeed</th>\n",
              "      <th>var2</th>\n",
              "    </tr>\n",
              "  </thead>\n",
              "  <tbody>\n",
              "    <tr>\n",
              "      <th>0</th>\n",
              "      <td>552</td>\n",
              "      <td>2013-07-24 00:00:00</td>\n",
              "      <td>-10.0</td>\n",
              "      <td>-16.4</td>\n",
              "      <td>1011.0</td>\n",
              "      <td>263.280</td>\n",
              "      <td>A</td>\n",
              "    </tr>\n",
              "    <tr>\n",
              "      <th>1</th>\n",
              "      <td>553</td>\n",
              "      <td>2013-07-24 01:00:00</td>\n",
              "      <td>-10.0</td>\n",
              "      <td>-20.7</td>\n",
              "      <td>1011.0</td>\n",
              "      <td>267.175</td>\n",
              "      <td>A</td>\n",
              "    </tr>\n",
              "    <tr>\n",
              "      <th>2</th>\n",
              "      <td>554</td>\n",
              "      <td>2013-07-24 02:00:00</td>\n",
              "      <td>-10.7</td>\n",
              "      <td>-17.1</td>\n",
              "      <td>1003.0</td>\n",
              "      <td>269.555</td>\n",
              "      <td>A</td>\n",
              "    </tr>\n",
              "    <tr>\n",
              "      <th>3</th>\n",
              "      <td>555</td>\n",
              "      <td>2013-07-24 03:00:00</td>\n",
              "      <td>-13.6</td>\n",
              "      <td>-20.7</td>\n",
              "      <td>1008.0</td>\n",
              "      <td>273.060</td>\n",
              "      <td>A</td>\n",
              "    </tr>\n",
              "    <tr>\n",
              "      <th>4</th>\n",
              "      <td>556</td>\n",
              "      <td>2013-07-24 04:00:00</td>\n",
              "      <td>-10.7</td>\n",
              "      <td>-17.1</td>\n",
              "      <td>1006.0</td>\n",
              "      <td>1.765</td>\n",
              "      <td>A</td>\n",
              "    </tr>\n",
              "    <tr>\n",
              "      <th>...</th>\n",
              "      <td>...</td>\n",
              "      <td>...</td>\n",
              "      <td>...</td>\n",
              "      <td>...</td>\n",
              "      <td>...</td>\n",
              "      <td>...</td>\n",
              "      <td>...</td>\n",
              "    </tr>\n",
              "    <tr>\n",
              "      <th>8563</th>\n",
              "      <td>35059</td>\n",
              "      <td>2017-06-30 19:00:00</td>\n",
              "      <td>-5.7</td>\n",
              "      <td>-18.6</td>\n",
              "      <td>998.0</td>\n",
              "      <td>233.595</td>\n",
              "      <td>A</td>\n",
              "    </tr>\n",
              "    <tr>\n",
              "      <th>8564</th>\n",
              "      <td>35060</td>\n",
              "      <td>2017-06-30 20:00:00</td>\n",
              "      <td>-5.7</td>\n",
              "      <td>-17.1</td>\n",
              "      <td>995.0</td>\n",
              "      <td>238.780</td>\n",
              "      <td>A</td>\n",
              "    </tr>\n",
              "    <tr>\n",
              "      <th>8565</th>\n",
              "      <td>35061</td>\n",
              "      <td>2017-06-30 21:00:00</td>\n",
              "      <td>-7.1</td>\n",
              "      <td>-19.3</td>\n",
              "      <td>1004.0</td>\n",
              "      <td>244.325</td>\n",
              "      <td>A</td>\n",
              "    </tr>\n",
              "    <tr>\n",
              "      <th>8566</th>\n",
              "      <td>35062</td>\n",
              "      <td>2017-06-30 22:00:00</td>\n",
              "      <td>-6.4</td>\n",
              "      <td>-19.3</td>\n",
              "      <td>1008.0</td>\n",
              "      <td>247.470</td>\n",
              "      <td>A</td>\n",
              "    </tr>\n",
              "    <tr>\n",
              "      <th>8567</th>\n",
              "      <td>35063</td>\n",
              "      <td>2017-06-30 23:00:00</td>\n",
              "      <td>-5.0</td>\n",
              "      <td>-16.4</td>\n",
              "      <td>1001.0</td>\n",
              "      <td>250.600</td>\n",
              "      <td>A</td>\n",
              "    </tr>\n",
              "  </tbody>\n",
              "</table>\n",
              "<p>8568 rows × 7 columns</p>\n",
              "</div>"
            ],
            "text/plain": [
              "         ID             datetime  temperature  var1  pressure  windspeed var2\n",
              "0       552  2013-07-24 00:00:00        -10.0 -16.4    1011.0    263.280    A\n",
              "1       553  2013-07-24 01:00:00        -10.0 -20.7    1011.0    267.175    A\n",
              "2       554  2013-07-24 02:00:00        -10.7 -17.1    1003.0    269.555    A\n",
              "3       555  2013-07-24 03:00:00        -13.6 -20.7    1008.0    273.060    A\n",
              "4       556  2013-07-24 04:00:00        -10.7 -17.1    1006.0      1.765    A\n",
              "...     ...                  ...          ...   ...       ...        ...  ...\n",
              "8563  35059  2017-06-30 19:00:00         -5.7 -18.6     998.0    233.595    A\n",
              "8564  35060  2017-06-30 20:00:00         -5.7 -17.1     995.0    238.780    A\n",
              "8565  35061  2017-06-30 21:00:00         -7.1 -19.3    1004.0    244.325    A\n",
              "8566  35062  2017-06-30 22:00:00         -6.4 -19.3    1008.0    247.470    A\n",
              "8567  35063  2017-06-30 23:00:00         -5.0 -16.4    1001.0    250.600    A\n",
              "\n",
              "[8568 rows x 7 columns]"
            ]
          },
          "metadata": {
            "tags": []
          },
          "execution_count": 3
        }
      ]
    },
    {
      "cell_type": "markdown",
      "metadata": {
        "id": "PsMfmHvJNzKV"
      },
      "source": [
        "#Use shape to find number of rows and columns for a given dataset"
      ]
    },
    {
      "cell_type": "code",
      "metadata": {
        "colab": {
          "base_uri": "https://localhost:8080/"
        },
        "id": "hY-0Vq4aAjhz",
        "outputId": "04fd11f4-56af-41d6-91c5-f459298b731a"
      },
      "source": [
        "a.shape"
      ],
      "execution_count": 4,
      "outputs": [
        {
          "output_type": "execute_result",
          "data": {
            "text/plain": [
              "(8568, 7)"
            ]
          },
          "metadata": {
            "tags": []
          },
          "execution_count": 4
        }
      ]
    },
    {
      "cell_type": "markdown",
      "metadata": {
        "id": "FjxhcYhvOCgd"
      },
      "source": [
        "#Use head to find first five rows for a given data set\r\n",
        "Python executes from n=0 to n-1; so for 5 rows it will show 0 to 4 rows "
      ]
    },
    {
      "cell_type": "code",
      "metadata": {
        "colab": {
          "base_uri": "https://localhost:8080/",
          "height": 206
        },
        "id": "51YZ_TNEOMaR",
        "outputId": "e84b9f17-6de8-44a5-efee-9842afdf1131"
      },
      "source": [
        "a.head()"
      ],
      "execution_count": 5,
      "outputs": [
        {
          "output_type": "execute_result",
          "data": {
            "text/html": [
              "<div>\n",
              "<style scoped>\n",
              "    .dataframe tbody tr th:only-of-type {\n",
              "        vertical-align: middle;\n",
              "    }\n",
              "\n",
              "    .dataframe tbody tr th {\n",
              "        vertical-align: top;\n",
              "    }\n",
              "\n",
              "    .dataframe thead th {\n",
              "        text-align: right;\n",
              "    }\n",
              "</style>\n",
              "<table border=\"1\" class=\"dataframe\">\n",
              "  <thead>\n",
              "    <tr style=\"text-align: right;\">\n",
              "      <th></th>\n",
              "      <th>ID</th>\n",
              "      <th>datetime</th>\n",
              "      <th>temperature</th>\n",
              "      <th>var1</th>\n",
              "      <th>pressure</th>\n",
              "      <th>windspeed</th>\n",
              "      <th>var2</th>\n",
              "    </tr>\n",
              "  </thead>\n",
              "  <tbody>\n",
              "    <tr>\n",
              "      <th>0</th>\n",
              "      <td>552</td>\n",
              "      <td>2013-07-24 00:00:00</td>\n",
              "      <td>-10.0</td>\n",
              "      <td>-16.4</td>\n",
              "      <td>1011.0</td>\n",
              "      <td>263.280</td>\n",
              "      <td>A</td>\n",
              "    </tr>\n",
              "    <tr>\n",
              "      <th>1</th>\n",
              "      <td>553</td>\n",
              "      <td>2013-07-24 01:00:00</td>\n",
              "      <td>-10.0</td>\n",
              "      <td>-20.7</td>\n",
              "      <td>1011.0</td>\n",
              "      <td>267.175</td>\n",
              "      <td>A</td>\n",
              "    </tr>\n",
              "    <tr>\n",
              "      <th>2</th>\n",
              "      <td>554</td>\n",
              "      <td>2013-07-24 02:00:00</td>\n",
              "      <td>-10.7</td>\n",
              "      <td>-17.1</td>\n",
              "      <td>1003.0</td>\n",
              "      <td>269.555</td>\n",
              "      <td>A</td>\n",
              "    </tr>\n",
              "    <tr>\n",
              "      <th>3</th>\n",
              "      <td>555</td>\n",
              "      <td>2013-07-24 03:00:00</td>\n",
              "      <td>-13.6</td>\n",
              "      <td>-20.7</td>\n",
              "      <td>1008.0</td>\n",
              "      <td>273.060</td>\n",
              "      <td>A</td>\n",
              "    </tr>\n",
              "    <tr>\n",
              "      <th>4</th>\n",
              "      <td>556</td>\n",
              "      <td>2013-07-24 04:00:00</td>\n",
              "      <td>-10.7</td>\n",
              "      <td>-17.1</td>\n",
              "      <td>1006.0</td>\n",
              "      <td>1.765</td>\n",
              "      <td>A</td>\n",
              "    </tr>\n",
              "  </tbody>\n",
              "</table>\n",
              "</div>"
            ],
            "text/plain": [
              "    ID             datetime  temperature  var1  pressure  windspeed var2\n",
              "0  552  2013-07-24 00:00:00        -10.0 -16.4    1011.0    263.280    A\n",
              "1  553  2013-07-24 01:00:00        -10.0 -20.7    1011.0    267.175    A\n",
              "2  554  2013-07-24 02:00:00        -10.7 -17.1    1003.0    269.555    A\n",
              "3  555  2013-07-24 03:00:00        -13.6 -20.7    1008.0    273.060    A\n",
              "4  556  2013-07-24 04:00:00        -10.7 -17.1    1006.0      1.765    A"
            ]
          },
          "metadata": {
            "tags": []
          },
          "execution_count": 5
        }
      ]
    },
    {
      "cell_type": "markdown",
      "metadata": {
        "id": "Z-nVRt0dQSj5"
      },
      "source": [
        "#Use tail to find last 5 rows for a given data set"
      ]
    },
    {
      "cell_type": "code",
      "metadata": {
        "colab": {
          "base_uri": "https://localhost:8080/",
          "height": 206
        },
        "id": "TweBX-fYQbSm",
        "outputId": "34fea037-b588-4e6e-a171-b5afd1bd0adb"
      },
      "source": [
        "a.tail()"
      ],
      "execution_count": 6,
      "outputs": [
        {
          "output_type": "execute_result",
          "data": {
            "text/html": [
              "<div>\n",
              "<style scoped>\n",
              "    .dataframe tbody tr th:only-of-type {\n",
              "        vertical-align: middle;\n",
              "    }\n",
              "\n",
              "    .dataframe tbody tr th {\n",
              "        vertical-align: top;\n",
              "    }\n",
              "\n",
              "    .dataframe thead th {\n",
              "        text-align: right;\n",
              "    }\n",
              "</style>\n",
              "<table border=\"1\" class=\"dataframe\">\n",
              "  <thead>\n",
              "    <tr style=\"text-align: right;\">\n",
              "      <th></th>\n",
              "      <th>ID</th>\n",
              "      <th>datetime</th>\n",
              "      <th>temperature</th>\n",
              "      <th>var1</th>\n",
              "      <th>pressure</th>\n",
              "      <th>windspeed</th>\n",
              "      <th>var2</th>\n",
              "    </tr>\n",
              "  </thead>\n",
              "  <tbody>\n",
              "    <tr>\n",
              "      <th>8563</th>\n",
              "      <td>35059</td>\n",
              "      <td>2017-06-30 19:00:00</td>\n",
              "      <td>-5.7</td>\n",
              "      <td>-18.6</td>\n",
              "      <td>998.0</td>\n",
              "      <td>233.595</td>\n",
              "      <td>A</td>\n",
              "    </tr>\n",
              "    <tr>\n",
              "      <th>8564</th>\n",
              "      <td>35060</td>\n",
              "      <td>2017-06-30 20:00:00</td>\n",
              "      <td>-5.7</td>\n",
              "      <td>-17.1</td>\n",
              "      <td>995.0</td>\n",
              "      <td>238.780</td>\n",
              "      <td>A</td>\n",
              "    </tr>\n",
              "    <tr>\n",
              "      <th>8565</th>\n",
              "      <td>35061</td>\n",
              "      <td>2017-06-30 21:00:00</td>\n",
              "      <td>-7.1</td>\n",
              "      <td>-19.3</td>\n",
              "      <td>1004.0</td>\n",
              "      <td>244.325</td>\n",
              "      <td>A</td>\n",
              "    </tr>\n",
              "    <tr>\n",
              "      <th>8566</th>\n",
              "      <td>35062</td>\n",
              "      <td>2017-06-30 22:00:00</td>\n",
              "      <td>-6.4</td>\n",
              "      <td>-19.3</td>\n",
              "      <td>1008.0</td>\n",
              "      <td>247.470</td>\n",
              "      <td>A</td>\n",
              "    </tr>\n",
              "    <tr>\n",
              "      <th>8567</th>\n",
              "      <td>35063</td>\n",
              "      <td>2017-06-30 23:00:00</td>\n",
              "      <td>-5.0</td>\n",
              "      <td>-16.4</td>\n",
              "      <td>1001.0</td>\n",
              "      <td>250.600</td>\n",
              "      <td>A</td>\n",
              "    </tr>\n",
              "  </tbody>\n",
              "</table>\n",
              "</div>"
            ],
            "text/plain": [
              "         ID             datetime  temperature  var1  pressure  windspeed var2\n",
              "8563  35059  2017-06-30 19:00:00         -5.7 -18.6     998.0    233.595    A\n",
              "8564  35060  2017-06-30 20:00:00         -5.7 -17.1     995.0    238.780    A\n",
              "8565  35061  2017-06-30 21:00:00         -7.1 -19.3    1004.0    244.325    A\n",
              "8566  35062  2017-06-30 22:00:00         -6.4 -19.3    1008.0    247.470    A\n",
              "8567  35063  2017-06-30 23:00:00         -5.0 -16.4    1001.0    250.600    A"
            ]
          },
          "metadata": {
            "tags": []
          },
          "execution_count": 6
        }
      ]
    },
    {
      "cell_type": "markdown",
      "metadata": {
        "id": "tJinNYjTOheo"
      },
      "source": [
        "#After finding size and head use describe to find statistical terms for the given data set\r\n",
        "Describe function runs only for continuous data"
      ]
    },
    {
      "cell_type": "code",
      "metadata": {
        "colab": {
          "base_uri": "https://localhost:8080/",
          "height": 300
        },
        "id": "crCd51mEOrP5",
        "outputId": "8ebf90e1-f6de-4344-fe7e-14cfce6f6f63"
      },
      "source": [
        "a.describe()"
      ],
      "execution_count": 7,
      "outputs": [
        {
          "output_type": "execute_result",
          "data": {
            "text/html": [
              "<div>\n",
              "<style scoped>\n",
              "    .dataframe tbody tr th:only-of-type {\n",
              "        vertical-align: middle;\n",
              "    }\n",
              "\n",
              "    .dataframe tbody tr th {\n",
              "        vertical-align: top;\n",
              "    }\n",
              "\n",
              "    .dataframe thead th {\n",
              "        text-align: right;\n",
              "    }\n",
              "</style>\n",
              "<table border=\"1\" class=\"dataframe\">\n",
              "  <thead>\n",
              "    <tr style=\"text-align: right;\">\n",
              "      <th></th>\n",
              "      <th>ID</th>\n",
              "      <th>temperature</th>\n",
              "      <th>var1</th>\n",
              "      <th>pressure</th>\n",
              "      <th>windspeed</th>\n",
              "    </tr>\n",
              "  </thead>\n",
              "  <tbody>\n",
              "    <tr>\n",
              "      <th>count</th>\n",
              "      <td>8568.000000</td>\n",
              "      <td>8568.000000</td>\n",
              "      <td>8568.000000</td>\n",
              "      <td>8568.000000</td>\n",
              "      <td>8568.000000</td>\n",
              "    </tr>\n",
              "    <tr>\n",
              "      <th>mean</th>\n",
              "      <td>17766.525210</td>\n",
              "      <td>5.112757</td>\n",
              "      <td>-1.726401</td>\n",
              "      <td>986.329599</td>\n",
              "      <td>24.176398</td>\n",
              "    </tr>\n",
              "    <tr>\n",
              "      <th>std</th>\n",
              "      <td>10117.296415</td>\n",
              "      <td>8.606167</td>\n",
              "      <td>10.345034</td>\n",
              "      <td>12.148517</td>\n",
              "      <td>49.651535</td>\n",
              "    </tr>\n",
              "    <tr>\n",
              "      <th>min</th>\n",
              "      <td>552.000000</td>\n",
              "      <td>-17.900000</td>\n",
              "      <td>-26.400000</td>\n",
              "      <td>954.000000</td>\n",
              "      <td>1.075000</td>\n",
              "    </tr>\n",
              "    <tr>\n",
              "      <th>25%</th>\n",
              "      <td>9317.750000</td>\n",
              "      <td>-2.100000</td>\n",
              "      <td>-10.000000</td>\n",
              "      <td>977.000000</td>\n",
              "      <td>3.155000</td>\n",
              "    </tr>\n",
              "    <tr>\n",
              "      <th>50%</th>\n",
              "      <td>18083.500000</td>\n",
              "      <td>5.700000</td>\n",
              "      <td>-2.100000</td>\n",
              "      <td>987.000000</td>\n",
              "      <td>6.295000</td>\n",
              "    </tr>\n",
              "    <tr>\n",
              "      <th>75%</th>\n",
              "      <td>26297.250000</td>\n",
              "      <td>12.100000</td>\n",
              "      <td>7.900000</td>\n",
              "      <td>995.000000</td>\n",
              "      <td>21.907500</td>\n",
              "    </tr>\n",
              "    <tr>\n",
              "      <th>max</th>\n",
              "      <td>35063.000000</td>\n",
              "      <td>25.700000</td>\n",
              "      <td>17.900000</td>\n",
              "      <td>1023.000000</td>\n",
              "      <td>491.255000</td>\n",
              "    </tr>\n",
              "  </tbody>\n",
              "</table>\n",
              "</div>"
            ],
            "text/plain": [
              "                 ID  temperature         var1     pressure    windspeed\n",
              "count   8568.000000  8568.000000  8568.000000  8568.000000  8568.000000\n",
              "mean   17766.525210     5.112757    -1.726401   986.329599    24.176398\n",
              "std    10117.296415     8.606167    10.345034    12.148517    49.651535\n",
              "min      552.000000   -17.900000   -26.400000   954.000000     1.075000\n",
              "25%     9317.750000    -2.100000   -10.000000   977.000000     3.155000\n",
              "50%    18083.500000     5.700000    -2.100000   987.000000     6.295000\n",
              "75%    26297.250000    12.100000     7.900000   995.000000    21.907500\n",
              "max    35063.000000    25.700000    17.900000  1023.000000   491.255000"
            ]
          },
          "metadata": {
            "tags": []
          },
          "execution_count": 7
        }
      ]
    },
    {
      "cell_type": "markdown",
      "metadata": {
        "id": "n9XSJ2RYO99u"
      },
      "source": [
        "#One can always find statistical quantity individually\r\n",
        "\r\n"
      ]
    },
    {
      "cell_type": "code",
      "metadata": {
        "colab": {
          "base_uri": "https://localhost:8080/"
        },
        "id": "ZXApGvFgPIFw",
        "outputId": "1e8930f6-a9c5-4e09-f5f5-6e52dc8abf55"
      },
      "source": [
        "a.mean()"
      ],
      "execution_count": 8,
      "outputs": [
        {
          "output_type": "execute_result",
          "data": {
            "text/plain": [
              "ID             17766.525210\n",
              "temperature        5.112757\n",
              "var1              -1.726401\n",
              "pressure         986.329599\n",
              "windspeed         24.176398\n",
              "dtype: float64"
            ]
          },
          "metadata": {
            "tags": []
          },
          "execution_count": 8
        }
      ]
    },
    {
      "cell_type": "code",
      "metadata": {
        "colab": {
          "base_uri": "https://localhost:8080/"
        },
        "id": "sKV2MJinPYr_",
        "outputId": "817a0098-7cf7-45fd-ea24-2fc3b4bd9825"
      },
      "source": [
        "a.median()"
      ],
      "execution_count": 9,
      "outputs": [
        {
          "output_type": "execute_result",
          "data": {
            "text/plain": [
              "ID             18083.500\n",
              "temperature        5.700\n",
              "var1              -2.100\n",
              "pressure         987.000\n",
              "windspeed          6.295\n",
              "dtype: float64"
            ]
          },
          "metadata": {
            "tags": []
          },
          "execution_count": 9
        }
      ]
    },
    {
      "cell_type": "code",
      "metadata": {
        "colab": {
          "base_uri": "https://localhost:8080/"
        },
        "id": "FzXxIABvPYJ8",
        "outputId": "a5671195-6451-4831-9eeb-a6e0b3e2d126"
      },
      "source": [
        "a.std()"
      ],
      "execution_count": 10,
      "outputs": [
        {
          "output_type": "execute_result",
          "data": {
            "text/plain": [
              "ID             10117.296415\n",
              "temperature        8.606167\n",
              "var1              10.345034\n",
              "pressure          12.148517\n",
              "windspeed         49.651535\n",
              "dtype: float64"
            ]
          },
          "metadata": {
            "tags": []
          },
          "execution_count": 10
        }
      ]
    },
    {
      "cell_type": "code",
      "metadata": {
        "colab": {
          "base_uri": "https://localhost:8080/"
        },
        "id": "Bd3q2W_LPeA6",
        "outputId": "132f0baf-b828-4f6f-c477-5a40f8383b87"
      },
      "source": [
        "min(a.temperature)"
      ],
      "execution_count": 11,
      "outputs": [
        {
          "output_type": "execute_result",
          "data": {
            "text/plain": [
              "-17.9"
            ]
          },
          "metadata": {
            "tags": []
          },
          "execution_count": 11
        }
      ]
    },
    {
      "cell_type": "code",
      "metadata": {
        "colab": {
          "base_uri": "https://localhost:8080/"
        },
        "id": "1DerFJxpPhDN",
        "outputId": "2d32ab0a-bf77-4413-8a04-fd5624004448"
      },
      "source": [
        "max(a.temperature)"
      ],
      "execution_count": 12,
      "outputs": [
        {
          "output_type": "execute_result",
          "data": {
            "text/plain": [
              "25.7"
            ]
          },
          "metadata": {
            "tags": []
          },
          "execution_count": 12
        }
      ]
    },
    {
      "cell_type": "markdown",
      "metadata": {
        "id": "zezznY4wQ5Ur"
      },
      "source": [
        "#Codes to find overview of dataset\r\n",
        "**DATAFRAME ATTRIBUTION**"
      ]
    },
    {
      "cell_type": "code",
      "metadata": {
        "colab": {
          "base_uri": "https://localhost:8080/"
        },
        "id": "rFgz25gkQC9G",
        "outputId": "716e107d-5add-4bd1-9740-b9f7af0d19d4"
      },
      "source": [
        "a.size"
      ],
      "execution_count": 13,
      "outputs": [
        {
          "output_type": "execute_result",
          "data": {
            "text/plain": [
              "59976"
            ]
          },
          "metadata": {
            "tags": []
          },
          "execution_count": 13
        }
      ]
    },
    {
      "cell_type": "code",
      "metadata": {
        "colab": {
          "base_uri": "https://localhost:8080/"
        },
        "id": "CxlVOR8_QoUx",
        "outputId": "29db6a82-138b-4208-cce5-e6a54c85b53a"
      },
      "source": [
        "a.ndim"
      ],
      "execution_count": 14,
      "outputs": [
        {
          "output_type": "execute_result",
          "data": {
            "text/plain": [
              "2"
            ]
          },
          "metadata": {
            "tags": []
          },
          "execution_count": 14
        }
      ]
    },
    {
      "cell_type": "code",
      "metadata": {
        "colab": {
          "base_uri": "https://localhost:8080/"
        },
        "id": "-SKp5YbnQyf8",
        "outputId": "8eb34152-0811-452b-e961-f9d456edc497"
      },
      "source": [
        "a.values"
      ],
      "execution_count": 15,
      "outputs": [
        {
          "output_type": "execute_result",
          "data": {
            "text/plain": [
              "array([[552, '2013-07-24 00:00:00', -10.0, ..., 1011.0, 263.28, 'A'],\n",
              "       [553, '2013-07-24 01:00:00', -10.0, ..., 1011.0, 267.175, 'A'],\n",
              "       [554, '2013-07-24 02:00:00', -10.7, ..., 1003.0, 269.555, 'A'],\n",
              "       ...,\n",
              "       [35061, '2017-06-30 21:00:00', -7.1, ..., 1004.0, 244.325, 'A'],\n",
              "       [35062, '2017-06-30 22:00:00', -6.4, ..., 1008.0, 247.47, 'A'],\n",
              "       [35063, '2017-06-30 23:00:00', -5.0, ..., 1001.0, 250.6, 'A']],\n",
              "      dtype=object)"
            ]
          },
          "metadata": {
            "tags": []
          },
          "execution_count": 15
        }
      ]
    },
    {
      "cell_type": "code",
      "metadata": {
        "colab": {
          "base_uri": "https://localhost:8080/"
        },
        "id": "R_d0XXyGQt_8",
        "outputId": "61bef9eb-c2dd-4e99-9806-7d15a7a58ebe"
      },
      "source": [
        "a.axes"
      ],
      "execution_count": 16,
      "outputs": [
        {
          "output_type": "execute_result",
          "data": {
            "text/plain": [
              "[RangeIndex(start=0, stop=8568, step=1),\n",
              " Index(['ID', 'datetime', 'temperature', 'var1', 'pressure', 'windspeed',\n",
              "        'var2'],\n",
              "       dtype='object')]"
            ]
          },
          "metadata": {
            "tags": []
          },
          "execution_count": 16
        }
      ]
    },
    {
      "cell_type": "code",
      "metadata": {
        "colab": {
          "base_uri": "https://localhost:8080/",
          "height": 424
        },
        "id": "bjTVyBJGRKCs",
        "outputId": "4be7020e-acab-484f-ed00-7740df81fec2"
      },
      "source": [
        "display(a)"
      ],
      "execution_count": 17,
      "outputs": [
        {
          "output_type": "display_data",
          "data": {
            "text/html": [
              "<div>\n",
              "<style scoped>\n",
              "    .dataframe tbody tr th:only-of-type {\n",
              "        vertical-align: middle;\n",
              "    }\n",
              "\n",
              "    .dataframe tbody tr th {\n",
              "        vertical-align: top;\n",
              "    }\n",
              "\n",
              "    .dataframe thead th {\n",
              "        text-align: right;\n",
              "    }\n",
              "</style>\n",
              "<table border=\"1\" class=\"dataframe\">\n",
              "  <thead>\n",
              "    <tr style=\"text-align: right;\">\n",
              "      <th></th>\n",
              "      <th>ID</th>\n",
              "      <th>datetime</th>\n",
              "      <th>temperature</th>\n",
              "      <th>var1</th>\n",
              "      <th>pressure</th>\n",
              "      <th>windspeed</th>\n",
              "      <th>var2</th>\n",
              "    </tr>\n",
              "  </thead>\n",
              "  <tbody>\n",
              "    <tr>\n",
              "      <th>0</th>\n",
              "      <td>552</td>\n",
              "      <td>2013-07-24 00:00:00</td>\n",
              "      <td>-10.0</td>\n",
              "      <td>-16.4</td>\n",
              "      <td>1011.0</td>\n",
              "      <td>263.280</td>\n",
              "      <td>A</td>\n",
              "    </tr>\n",
              "    <tr>\n",
              "      <th>1</th>\n",
              "      <td>553</td>\n",
              "      <td>2013-07-24 01:00:00</td>\n",
              "      <td>-10.0</td>\n",
              "      <td>-20.7</td>\n",
              "      <td>1011.0</td>\n",
              "      <td>267.175</td>\n",
              "      <td>A</td>\n",
              "    </tr>\n",
              "    <tr>\n",
              "      <th>2</th>\n",
              "      <td>554</td>\n",
              "      <td>2013-07-24 02:00:00</td>\n",
              "      <td>-10.7</td>\n",
              "      <td>-17.1</td>\n",
              "      <td>1003.0</td>\n",
              "      <td>269.555</td>\n",
              "      <td>A</td>\n",
              "    </tr>\n",
              "    <tr>\n",
              "      <th>3</th>\n",
              "      <td>555</td>\n",
              "      <td>2013-07-24 03:00:00</td>\n",
              "      <td>-13.6</td>\n",
              "      <td>-20.7</td>\n",
              "      <td>1008.0</td>\n",
              "      <td>273.060</td>\n",
              "      <td>A</td>\n",
              "    </tr>\n",
              "    <tr>\n",
              "      <th>4</th>\n",
              "      <td>556</td>\n",
              "      <td>2013-07-24 04:00:00</td>\n",
              "      <td>-10.7</td>\n",
              "      <td>-17.1</td>\n",
              "      <td>1006.0</td>\n",
              "      <td>1.765</td>\n",
              "      <td>A</td>\n",
              "    </tr>\n",
              "    <tr>\n",
              "      <th>...</th>\n",
              "      <td>...</td>\n",
              "      <td>...</td>\n",
              "      <td>...</td>\n",
              "      <td>...</td>\n",
              "      <td>...</td>\n",
              "      <td>...</td>\n",
              "      <td>...</td>\n",
              "    </tr>\n",
              "    <tr>\n",
              "      <th>8563</th>\n",
              "      <td>35059</td>\n",
              "      <td>2017-06-30 19:00:00</td>\n",
              "      <td>-5.7</td>\n",
              "      <td>-18.6</td>\n",
              "      <td>998.0</td>\n",
              "      <td>233.595</td>\n",
              "      <td>A</td>\n",
              "    </tr>\n",
              "    <tr>\n",
              "      <th>8564</th>\n",
              "      <td>35060</td>\n",
              "      <td>2017-06-30 20:00:00</td>\n",
              "      <td>-5.7</td>\n",
              "      <td>-17.1</td>\n",
              "      <td>995.0</td>\n",
              "      <td>238.780</td>\n",
              "      <td>A</td>\n",
              "    </tr>\n",
              "    <tr>\n",
              "      <th>8565</th>\n",
              "      <td>35061</td>\n",
              "      <td>2017-06-30 21:00:00</td>\n",
              "      <td>-7.1</td>\n",
              "      <td>-19.3</td>\n",
              "      <td>1004.0</td>\n",
              "      <td>244.325</td>\n",
              "      <td>A</td>\n",
              "    </tr>\n",
              "    <tr>\n",
              "      <th>8566</th>\n",
              "      <td>35062</td>\n",
              "      <td>2017-06-30 22:00:00</td>\n",
              "      <td>-6.4</td>\n",
              "      <td>-19.3</td>\n",
              "      <td>1008.0</td>\n",
              "      <td>247.470</td>\n",
              "      <td>A</td>\n",
              "    </tr>\n",
              "    <tr>\n",
              "      <th>8567</th>\n",
              "      <td>35063</td>\n",
              "      <td>2017-06-30 23:00:00</td>\n",
              "      <td>-5.0</td>\n",
              "      <td>-16.4</td>\n",
              "      <td>1001.0</td>\n",
              "      <td>250.600</td>\n",
              "      <td>A</td>\n",
              "    </tr>\n",
              "  </tbody>\n",
              "</table>\n",
              "<p>8568 rows × 7 columns</p>\n",
              "</div>"
            ],
            "text/plain": [
              "         ID             datetime  temperature  var1  pressure  windspeed var2\n",
              "0       552  2013-07-24 00:00:00        -10.0 -16.4    1011.0    263.280    A\n",
              "1       553  2013-07-24 01:00:00        -10.0 -20.7    1011.0    267.175    A\n",
              "2       554  2013-07-24 02:00:00        -10.7 -17.1    1003.0    269.555    A\n",
              "3       555  2013-07-24 03:00:00        -13.6 -20.7    1008.0    273.060    A\n",
              "4       556  2013-07-24 04:00:00        -10.7 -17.1    1006.0      1.765    A\n",
              "...     ...                  ...          ...   ...       ...        ...  ...\n",
              "8563  35059  2017-06-30 19:00:00         -5.7 -18.6     998.0    233.595    A\n",
              "8564  35060  2017-06-30 20:00:00         -5.7 -17.1     995.0    238.780    A\n",
              "8565  35061  2017-06-30 21:00:00         -7.1 -19.3    1004.0    244.325    A\n",
              "8566  35062  2017-06-30 22:00:00         -6.4 -19.3    1008.0    247.470    A\n",
              "8567  35063  2017-06-30 23:00:00         -5.0 -16.4    1001.0    250.600    A\n",
              "\n",
              "[8568 rows x 7 columns]"
            ]
          },
          "metadata": {
            "tags": []
          }
        }
      ]
    },
    {
      "cell_type": "markdown",
      "metadata": {
        "id": "X9Dp9e8tfbee"
      },
      "source": [
        "#We can also group variable to categorize data and have a good observation\r\n",
        "\r\n",
        "For example var2 has 3 characters namely **\"A\", \"B\", & \"C\"** so they can be categorized and we can see individual paramter results for each columns."
      ]
    },
    {
      "cell_type": "code",
      "metadata": {
        "colab": {
          "base_uri": "https://localhost:8080/",
          "height": 175
        },
        "id": "Jt7M-I5LRP_H",
        "outputId": "3d035261-e94e-4f61-e2f2-286561cb644e"
      },
      "source": [
        "b=a.groupby(['var2'])\r\n",
        "b.mean()"
      ],
      "execution_count": 26,
      "outputs": [
        {
          "output_type": "execute_result",
          "data": {
            "text/html": [
              "<div>\n",
              "<style scoped>\n",
              "    .dataframe tbody tr th:only-of-type {\n",
              "        vertical-align: middle;\n",
              "    }\n",
              "\n",
              "    .dataframe tbody tr th {\n",
              "        vertical-align: top;\n",
              "    }\n",
              "\n",
              "    .dataframe thead th {\n",
              "        text-align: right;\n",
              "    }\n",
              "</style>\n",
              "<table border=\"1\" class=\"dataframe\">\n",
              "  <thead>\n",
              "    <tr style=\"text-align: right;\">\n",
              "      <th></th>\n",
              "      <th>ID</th>\n",
              "      <th>temperature</th>\n",
              "      <th>var1</th>\n",
              "      <th>pressure</th>\n",
              "      <th>windspeed</th>\n",
              "    </tr>\n",
              "    <tr>\n",
              "      <th>var2</th>\n",
              "      <th></th>\n",
              "      <th></th>\n",
              "      <th></th>\n",
              "      <th></th>\n",
              "      <th></th>\n",
              "    </tr>\n",
              "  </thead>\n",
              "  <tbody>\n",
              "    <tr>\n",
              "      <th>A</th>\n",
              "      <td>17807.700868</td>\n",
              "      <td>5.014260</td>\n",
              "      <td>-2.103204</td>\n",
              "      <td>986.538462</td>\n",
              "      <td>24.771754</td>\n",
              "    </tr>\n",
              "    <tr>\n",
              "      <th>B</th>\n",
              "      <td>11017.104478</td>\n",
              "      <td>-6.058209</td>\n",
              "      <td>-7.022388</td>\n",
              "      <td>997.597015</td>\n",
              "      <td>15.294254</td>\n",
              "    </tr>\n",
              "    <tr>\n",
              "      <th>C</th>\n",
              "      <td>18123.061728</td>\n",
              "      <td>9.908642</td>\n",
              "      <td>8.878395</td>\n",
              "      <td>978.728395</td>\n",
              "      <td>10.987762</td>\n",
              "    </tr>\n",
              "  </tbody>\n",
              "</table>\n",
              "</div>"
            ],
            "text/plain": [
              "                ID  temperature      var1    pressure  windspeed\n",
              "var2                                                            \n",
              "A     17807.700868     5.014260 -2.103204  986.538462  24.771754\n",
              "B     11017.104478    -6.058209 -7.022388  997.597015  15.294254\n",
              "C     18123.061728     9.908642  8.878395  978.728395  10.987762"
            ]
          },
          "metadata": {
            "tags": []
          },
          "execution_count": 26
        }
      ]
    },
    {
      "cell_type": "markdown",
      "metadata": {
        "id": "I3oiwcgbgSzb"
      },
      "source": [
        "***We can further classify required data by chosing specific parameters***"
      ]
    },
    {
      "cell_type": "code",
      "metadata": {
        "colab": {
          "base_uri": "https://localhost:8080/",
          "height": 175
        },
        "id": "TXoUkf8FghjN",
        "outputId": "d50e028e-b737-4052-ef4b-801b0c9fdcfa"
      },
      "source": [
        "c=a.groupby('var2')[['temperature','pressure']].mean()\r\n",
        "c"
      ],
      "execution_count": 27,
      "outputs": [
        {
          "output_type": "execute_result",
          "data": {
            "text/html": [
              "<div>\n",
              "<style scoped>\n",
              "    .dataframe tbody tr th:only-of-type {\n",
              "        vertical-align: middle;\n",
              "    }\n",
              "\n",
              "    .dataframe tbody tr th {\n",
              "        vertical-align: top;\n",
              "    }\n",
              "\n",
              "    .dataframe thead th {\n",
              "        text-align: right;\n",
              "    }\n",
              "</style>\n",
              "<table border=\"1\" class=\"dataframe\">\n",
              "  <thead>\n",
              "    <tr style=\"text-align: right;\">\n",
              "      <th></th>\n",
              "      <th>temperature</th>\n",
              "      <th>pressure</th>\n",
              "    </tr>\n",
              "    <tr>\n",
              "      <th>var2</th>\n",
              "      <th></th>\n",
              "      <th></th>\n",
              "    </tr>\n",
              "  </thead>\n",
              "  <tbody>\n",
              "    <tr>\n",
              "      <th>A</th>\n",
              "      <td>5.014260</td>\n",
              "      <td>986.538462</td>\n",
              "    </tr>\n",
              "    <tr>\n",
              "      <th>B</th>\n",
              "      <td>-6.058209</td>\n",
              "      <td>997.597015</td>\n",
              "    </tr>\n",
              "    <tr>\n",
              "      <th>C</th>\n",
              "      <td>9.908642</td>\n",
              "      <td>978.728395</td>\n",
              "    </tr>\n",
              "  </tbody>\n",
              "</table>\n",
              "</div>"
            ],
            "text/plain": [
              "      temperature    pressure\n",
              "var2                         \n",
              "A        5.014260  986.538462\n",
              "B       -6.058209  997.597015\n",
              "C        9.908642  978.728395"
            ]
          },
          "metadata": {
            "tags": []
          },
          "execution_count": 27
        }
      ]
    },
    {
      "cell_type": "markdown",
      "metadata": {
        "id": "KxbmCNueQce8"
      },
      "source": [
        "***We can perform various aggregation to get more enhanced data***"
      ]
    },
    {
      "cell_type": "code",
      "metadata": {
        "colab": {
          "base_uri": "https://localhost:8080/",
          "height": 206
        },
        "id": "2tkKxs5zQstF",
        "outputId": "14ff37ac-6f7b-4508-e773-2773f394cc5c"
      },
      "source": [
        "c1=a.groupby('var2')[['temperature','pressure']].agg(['min','mean','max'])\r\n",
        "c1"
      ],
      "execution_count": 33,
      "outputs": [
        {
          "output_type": "execute_result",
          "data": {
            "text/html": [
              "<div>\n",
              "<style scoped>\n",
              "    .dataframe tbody tr th:only-of-type {\n",
              "        vertical-align: middle;\n",
              "    }\n",
              "\n",
              "    .dataframe tbody tr th {\n",
              "        vertical-align: top;\n",
              "    }\n",
              "\n",
              "    .dataframe thead tr th {\n",
              "        text-align: left;\n",
              "    }\n",
              "\n",
              "    .dataframe thead tr:last-of-type th {\n",
              "        text-align: right;\n",
              "    }\n",
              "</style>\n",
              "<table border=\"1\" class=\"dataframe\">\n",
              "  <thead>\n",
              "    <tr>\n",
              "      <th></th>\n",
              "      <th colspan=\"3\" halign=\"left\">temperature</th>\n",
              "      <th colspan=\"3\" halign=\"left\">pressure</th>\n",
              "    </tr>\n",
              "    <tr>\n",
              "      <th></th>\n",
              "      <th>min</th>\n",
              "      <th>mean</th>\n",
              "      <th>max</th>\n",
              "      <th>min</th>\n",
              "      <th>mean</th>\n",
              "      <th>max</th>\n",
              "    </tr>\n",
              "    <tr>\n",
              "      <th>var2</th>\n",
              "      <th></th>\n",
              "      <th></th>\n",
              "      <th></th>\n",
              "      <th></th>\n",
              "      <th></th>\n",
              "      <th></th>\n",
              "    </tr>\n",
              "  </thead>\n",
              "  <tbody>\n",
              "    <tr>\n",
              "      <th>A</th>\n",
              "      <td>-17.9</td>\n",
              "      <td>5.014260</td>\n",
              "      <td>25.7</td>\n",
              "      <td>954.0</td>\n",
              "      <td>986.538462</td>\n",
              "      <td>1023.0</td>\n",
              "    </tr>\n",
              "    <tr>\n",
              "      <th>B</th>\n",
              "      <td>-10.0</td>\n",
              "      <td>-6.058209</td>\n",
              "      <td>-2.1</td>\n",
              "      <td>982.0</td>\n",
              "      <td>997.597015</td>\n",
              "      <td>1018.0</td>\n",
              "    </tr>\n",
              "    <tr>\n",
              "      <th>C</th>\n",
              "      <td>-4.3</td>\n",
              "      <td>9.908642</td>\n",
              "      <td>17.1</td>\n",
              "      <td>954.0</td>\n",
              "      <td>978.728395</td>\n",
              "      <td>1010.0</td>\n",
              "    </tr>\n",
              "  </tbody>\n",
              "</table>\n",
              "</div>"
            ],
            "text/plain": [
              "     temperature                 pressure                    \n",
              "             min      mean   max      min        mean     max\n",
              "var2                                                         \n",
              "A          -17.9  5.014260  25.7    954.0  986.538462  1023.0\n",
              "B          -10.0 -6.058209  -2.1    982.0  997.597015  1018.0\n",
              "C           -4.3  9.908642  17.1    954.0  978.728395  1010.0"
            ]
          },
          "metadata": {
            "tags": []
          },
          "execution_count": 33
        }
      ]
    },
    {
      "cell_type": "markdown",
      "metadata": {
        "id": "cK9ZoHXb6VDv"
      },
      "source": [
        "#***DATA FILTER***\r\n",
        "\r\n",
        "---\r\n",
        "\r\n",
        "\r\n",
        "\r\n",
        "\r\n"
      ]
    },
    {
      "cell_type": "markdown",
      "metadata": {
        "id": "rasQ2Vcikz_I"
      },
      "source": [
        "#*Filtering Data is important to find values falling in your desired range*"
      ]
    },
    {
      "cell_type": "code",
      "metadata": {
        "colab": {
          "base_uri": "https://localhost:8080/",
          "height": 424
        },
        "id": "6JK-tHGkkzVl",
        "outputId": "0d6818a1-c874-422a-d8b2-a815cc7c2adc"
      },
      "source": [
        "d=a[a['pressure']>1000]\r\n",
        "d"
      ],
      "execution_count": 28,
      "outputs": [
        {
          "output_type": "execute_result",
          "data": {
            "text/html": [
              "<div>\n",
              "<style scoped>\n",
              "    .dataframe tbody tr th:only-of-type {\n",
              "        vertical-align: middle;\n",
              "    }\n",
              "\n",
              "    .dataframe tbody tr th {\n",
              "        vertical-align: top;\n",
              "    }\n",
              "\n",
              "    .dataframe thead th {\n",
              "        text-align: right;\n",
              "    }\n",
              "</style>\n",
              "<table border=\"1\" class=\"dataframe\">\n",
              "  <thead>\n",
              "    <tr style=\"text-align: right;\">\n",
              "      <th></th>\n",
              "      <th>ID</th>\n",
              "      <th>datetime</th>\n",
              "      <th>temperature</th>\n",
              "      <th>var1</th>\n",
              "      <th>pressure</th>\n",
              "      <th>windspeed</th>\n",
              "      <th>var2</th>\n",
              "    </tr>\n",
              "  </thead>\n",
              "  <tbody>\n",
              "    <tr>\n",
              "      <th>0</th>\n",
              "      <td>552</td>\n",
              "      <td>2013-07-24 00:00:00</td>\n",
              "      <td>-10.0</td>\n",
              "      <td>-16.4</td>\n",
              "      <td>1011.0</td>\n",
              "      <td>263.280</td>\n",
              "      <td>A</td>\n",
              "    </tr>\n",
              "    <tr>\n",
              "      <th>1</th>\n",
              "      <td>553</td>\n",
              "      <td>2013-07-24 01:00:00</td>\n",
              "      <td>-10.0</td>\n",
              "      <td>-20.7</td>\n",
              "      <td>1011.0</td>\n",
              "      <td>267.175</td>\n",
              "      <td>A</td>\n",
              "    </tr>\n",
              "    <tr>\n",
              "      <th>2</th>\n",
              "      <td>554</td>\n",
              "      <td>2013-07-24 02:00:00</td>\n",
              "      <td>-10.7</td>\n",
              "      <td>-17.1</td>\n",
              "      <td>1003.0</td>\n",
              "      <td>269.555</td>\n",
              "      <td>A</td>\n",
              "    </tr>\n",
              "    <tr>\n",
              "      <th>3</th>\n",
              "      <td>555</td>\n",
              "      <td>2013-07-24 03:00:00</td>\n",
              "      <td>-13.6</td>\n",
              "      <td>-20.7</td>\n",
              "      <td>1008.0</td>\n",
              "      <td>273.060</td>\n",
              "      <td>A</td>\n",
              "    </tr>\n",
              "    <tr>\n",
              "      <th>4</th>\n",
              "      <td>556</td>\n",
              "      <td>2013-07-24 04:00:00</td>\n",
              "      <td>-10.7</td>\n",
              "      <td>-17.1</td>\n",
              "      <td>1006.0</td>\n",
              "      <td>1.765</td>\n",
              "      <td>A</td>\n",
              "    </tr>\n",
              "    <tr>\n",
              "      <th>...</th>\n",
              "      <td>...</td>\n",
              "      <td>...</td>\n",
              "      <td>...</td>\n",
              "      <td>...</td>\n",
              "      <td>...</td>\n",
              "      <td>...</td>\n",
              "      <td>...</td>\n",
              "    </tr>\n",
              "    <tr>\n",
              "      <th>8561</th>\n",
              "      <td>35057</td>\n",
              "      <td>2017-06-30 17:00:00</td>\n",
              "      <td>-5.7</td>\n",
              "      <td>-19.3</td>\n",
              "      <td>1001.0</td>\n",
              "      <td>222.115</td>\n",
              "      <td>A</td>\n",
              "    </tr>\n",
              "    <tr>\n",
              "      <th>8562</th>\n",
              "      <td>35058</td>\n",
              "      <td>2017-06-30 18:00:00</td>\n",
              "      <td>-6.4</td>\n",
              "      <td>-17.9</td>\n",
              "      <td>1012.0</td>\n",
              "      <td>227.035</td>\n",
              "      <td>A</td>\n",
              "    </tr>\n",
              "    <tr>\n",
              "      <th>8565</th>\n",
              "      <td>35061</td>\n",
              "      <td>2017-06-30 21:00:00</td>\n",
              "      <td>-7.1</td>\n",
              "      <td>-19.3</td>\n",
              "      <td>1004.0</td>\n",
              "      <td>244.325</td>\n",
              "      <td>A</td>\n",
              "    </tr>\n",
              "    <tr>\n",
              "      <th>8566</th>\n",
              "      <td>35062</td>\n",
              "      <td>2017-06-30 22:00:00</td>\n",
              "      <td>-6.4</td>\n",
              "      <td>-19.3</td>\n",
              "      <td>1008.0</td>\n",
              "      <td>247.470</td>\n",
              "      <td>A</td>\n",
              "    </tr>\n",
              "    <tr>\n",
              "      <th>8567</th>\n",
              "      <td>35063</td>\n",
              "      <td>2017-06-30 23:00:00</td>\n",
              "      <td>-5.0</td>\n",
              "      <td>-16.4</td>\n",
              "      <td>1001.0</td>\n",
              "      <td>250.600</td>\n",
              "      <td>A</td>\n",
              "    </tr>\n",
              "  </tbody>\n",
              "</table>\n",
              "<p>1139 rows × 7 columns</p>\n",
              "</div>"
            ],
            "text/plain": [
              "         ID             datetime  temperature  var1  pressure  windspeed var2\n",
              "0       552  2013-07-24 00:00:00        -10.0 -16.4    1011.0    263.280    A\n",
              "1       553  2013-07-24 01:00:00        -10.0 -20.7    1011.0    267.175    A\n",
              "2       554  2013-07-24 02:00:00        -10.7 -17.1    1003.0    269.555    A\n",
              "3       555  2013-07-24 03:00:00        -13.6 -20.7    1008.0    273.060    A\n",
              "4       556  2013-07-24 04:00:00        -10.7 -17.1    1006.0      1.765    A\n",
              "...     ...                  ...          ...   ...       ...        ...  ...\n",
              "8561  35057  2017-06-30 17:00:00         -5.7 -19.3    1001.0    222.115    A\n",
              "8562  35058  2017-06-30 18:00:00         -6.4 -17.9    1012.0    227.035    A\n",
              "8565  35061  2017-06-30 21:00:00         -7.1 -19.3    1004.0    244.325    A\n",
              "8566  35062  2017-06-30 22:00:00         -6.4 -19.3    1008.0    247.470    A\n",
              "8567  35063  2017-06-30 23:00:00         -5.0 -16.4    1001.0    250.600    A\n",
              "\n",
              "[1139 rows x 7 columns]"
            ]
          },
          "metadata": {
            "tags": []
          },
          "execution_count": 28
        }
      ]
    },
    {
      "cell_type": "markdown",
      "metadata": {
        "id": "xTC8KN5pl5mk"
      },
      "source": [
        "For Eg. here, We can filter with dataset having pressure=1011"
      ]
    },
    {
      "cell_type": "code",
      "metadata": {
        "colab": {
          "base_uri": "https://localhost:8080/",
          "height": 1000
        },
        "id": "JYbXglbmlmal",
        "outputId": "70ea83a9-25c0-489b-a74c-4e7c030c1372"
      },
      "source": [
        "e=a[a['pressure']==1011]\r\n",
        "e"
      ],
      "execution_count": 29,
      "outputs": [
        {
          "output_type": "execute_result",
          "data": {
            "text/html": [
              "<div>\n",
              "<style scoped>\n",
              "    .dataframe tbody tr th:only-of-type {\n",
              "        vertical-align: middle;\n",
              "    }\n",
              "\n",
              "    .dataframe tbody tr th {\n",
              "        vertical-align: top;\n",
              "    }\n",
              "\n",
              "    .dataframe thead th {\n",
              "        text-align: right;\n",
              "    }\n",
              "</style>\n",
              "<table border=\"1\" class=\"dataframe\">\n",
              "  <thead>\n",
              "    <tr style=\"text-align: right;\">\n",
              "      <th></th>\n",
              "      <th>ID</th>\n",
              "      <th>datetime</th>\n",
              "      <th>temperature</th>\n",
              "      <th>var1</th>\n",
              "      <th>pressure</th>\n",
              "      <th>windspeed</th>\n",
              "      <th>var2</th>\n",
              "    </tr>\n",
              "  </thead>\n",
              "  <tbody>\n",
              "    <tr>\n",
              "      <th>0</th>\n",
              "      <td>552</td>\n",
              "      <td>2013-07-24 00:00:00</td>\n",
              "      <td>-10.0</td>\n",
              "      <td>-16.4</td>\n",
              "      <td>1011.0</td>\n",
              "      <td>263.280</td>\n",
              "      <td>A</td>\n",
              "    </tr>\n",
              "    <tr>\n",
              "      <th>1</th>\n",
              "      <td>553</td>\n",
              "      <td>2013-07-24 01:00:00</td>\n",
              "      <td>-10.0</td>\n",
              "      <td>-20.7</td>\n",
              "      <td>1011.0</td>\n",
              "      <td>267.175</td>\n",
              "      <td>A</td>\n",
              "    </tr>\n",
              "    <tr>\n",
              "      <th>18</th>\n",
              "      <td>570</td>\n",
              "      <td>2013-07-24 18:00:00</td>\n",
              "      <td>-7.1</td>\n",
              "      <td>-17.1</td>\n",
              "      <td>1011.0</td>\n",
              "      <td>10.390</td>\n",
              "      <td>A</td>\n",
              "    </tr>\n",
              "    <tr>\n",
              "      <th>43</th>\n",
              "      <td>595</td>\n",
              "      <td>2013-07-25 19:00:00</td>\n",
              "      <td>-6.4</td>\n",
              "      <td>-20.0</td>\n",
              "      <td>1011.0</td>\n",
              "      <td>4.005</td>\n",
              "      <td>A</td>\n",
              "    </tr>\n",
              "    <tr>\n",
              "      <th>90</th>\n",
              "      <td>642</td>\n",
              "      <td>2013-07-27 18:00:00</td>\n",
              "      <td>-7.1</td>\n",
              "      <td>-20.7</td>\n",
              "      <td>1011.0</td>\n",
              "      <td>13.595</td>\n",
              "      <td>A</td>\n",
              "    </tr>\n",
              "    <tr>\n",
              "      <th>93</th>\n",
              "      <td>645</td>\n",
              "      <td>2013-07-27 21:00:00</td>\n",
              "      <td>-7.1</td>\n",
              "      <td>-20.0</td>\n",
              "      <td>1011.0</td>\n",
              "      <td>7.760</td>\n",
              "      <td>A</td>\n",
              "    </tr>\n",
              "    <tr>\n",
              "      <th>106</th>\n",
              "      <td>658</td>\n",
              "      <td>2013-07-28 10:00:00</td>\n",
              "      <td>-6.4</td>\n",
              "      <td>-19.3</td>\n",
              "      <td>1011.0</td>\n",
              "      <td>10.715</td>\n",
              "      <td>A</td>\n",
              "    </tr>\n",
              "    <tr>\n",
              "      <th>114</th>\n",
              "      <td>666</td>\n",
              "      <td>2013-07-28 18:00:00</td>\n",
              "      <td>-6.4</td>\n",
              "      <td>-20.0</td>\n",
              "      <td>1011.0</td>\n",
              "      <td>67.935</td>\n",
              "      <td>A</td>\n",
              "    </tr>\n",
              "    <tr>\n",
              "      <th>120</th>\n",
              "      <td>672</td>\n",
              "      <td>2013-07-29 00:00:00</td>\n",
              "      <td>-7.9</td>\n",
              "      <td>-18.6</td>\n",
              "      <td>1011.0</td>\n",
              "      <td>94.290</td>\n",
              "      <td>A</td>\n",
              "    </tr>\n",
              "    <tr>\n",
              "      <th>140</th>\n",
              "      <td>692</td>\n",
              "      <td>2013-07-29 20:00:00</td>\n",
              "      <td>-7.9</td>\n",
              "      <td>-18.6</td>\n",
              "      <td>1011.0</td>\n",
              "      <td>61.600</td>\n",
              "      <td>A</td>\n",
              "    </tr>\n",
              "    <tr>\n",
              "      <th>529</th>\n",
              "      <td>2185</td>\n",
              "      <td>2013-09-30 01:00:00</td>\n",
              "      <td>-2.1</td>\n",
              "      <td>-1.4</td>\n",
              "      <td>1011.0</td>\n",
              "      <td>5.770</td>\n",
              "      <td>A</td>\n",
              "    </tr>\n",
              "    <tr>\n",
              "      <th>1610</th>\n",
              "      <td>7130</td>\n",
              "      <td>2014-04-24 02:00:00</td>\n",
              "      <td>-2.9</td>\n",
              "      <td>-5.0</td>\n",
              "      <td>1011.0</td>\n",
              "      <td>2.765</td>\n",
              "      <td>A</td>\n",
              "    </tr>\n",
              "    <tr>\n",
              "      <th>1926</th>\n",
              "      <td>7998</td>\n",
              "      <td>2014-05-30 06:00:00</td>\n",
              "      <td>-7.1</td>\n",
              "      <td>-10.7</td>\n",
              "      <td>1011.0</td>\n",
              "      <td>7.435</td>\n",
              "      <td>A</td>\n",
              "    </tr>\n",
              "    <tr>\n",
              "      <th>1955</th>\n",
              "      <td>8027</td>\n",
              "      <td>2014-05-31 11:00:00</td>\n",
              "      <td>-1.4</td>\n",
              "      <td>-7.1</td>\n",
              "      <td>1011.0</td>\n",
              "      <td>3.670</td>\n",
              "      <td>A</td>\n",
              "    </tr>\n",
              "    <tr>\n",
              "      <th>1990</th>\n",
              "      <td>8614</td>\n",
              "      <td>2014-06-24 22:00:00</td>\n",
              "      <td>-7.1</td>\n",
              "      <td>-11.4</td>\n",
              "      <td>1011.0</td>\n",
              "      <td>3.165</td>\n",
              "      <td>A</td>\n",
              "    </tr>\n",
              "    <tr>\n",
              "      <th>1994</th>\n",
              "      <td>8618</td>\n",
              "      <td>2014-06-25 02:00:00</td>\n",
              "      <td>-10.0</td>\n",
              "      <td>-11.4</td>\n",
              "      <td>1011.0</td>\n",
              "      <td>1.890</td>\n",
              "      <td>A</td>\n",
              "    </tr>\n",
              "    <tr>\n",
              "      <th>2005</th>\n",
              "      <td>8629</td>\n",
              "      <td>2014-06-25 13:00:00</td>\n",
              "      <td>-3.6</td>\n",
              "      <td>-12.9</td>\n",
              "      <td>1011.0</td>\n",
              "      <td>3.530</td>\n",
              "      <td>A</td>\n",
              "    </tr>\n",
              "    <tr>\n",
              "      <th>2064</th>\n",
              "      <td>8688</td>\n",
              "      <td>2014-06-28 00:00:00</td>\n",
              "      <td>-7.9</td>\n",
              "      <td>-8.6</td>\n",
              "      <td>1011.0</td>\n",
              "      <td>2.140</td>\n",
              "      <td>A</td>\n",
              "    </tr>\n",
              "    <tr>\n",
              "      <th>2272</th>\n",
              "      <td>9448</td>\n",
              "      <td>2014-07-29 16:00:00</td>\n",
              "      <td>-5.0</td>\n",
              "      <td>-15.0</td>\n",
              "      <td>1011.0</td>\n",
              "      <td>3.930</td>\n",
              "      <td>A</td>\n",
              "    </tr>\n",
              "    <tr>\n",
              "      <th>2292</th>\n",
              "      <td>9468</td>\n",
              "      <td>2014-07-30 12:00:00</td>\n",
              "      <td>-9.3</td>\n",
              "      <td>-10.7</td>\n",
              "      <td>1011.0</td>\n",
              "      <td>6.370</td>\n",
              "      <td>B</td>\n",
              "    </tr>\n",
              "    <tr>\n",
              "      <th>2361</th>\n",
              "      <td>10089</td>\n",
              "      <td>2014-08-25 09:00:00</td>\n",
              "      <td>-4.3</td>\n",
              "      <td>-17.1</td>\n",
              "      <td>1011.0</td>\n",
              "      <td>61.340</td>\n",
              "      <td>A</td>\n",
              "    </tr>\n",
              "    <tr>\n",
              "      <th>4125</th>\n",
              "      <td>17373</td>\n",
              "      <td>2015-06-24 21:00:00</td>\n",
              "      <td>-10.7</td>\n",
              "      <td>-18.6</td>\n",
              "      <td>1011.0</td>\n",
              "      <td>31.465</td>\n",
              "      <td>A</td>\n",
              "    </tr>\n",
              "    <tr>\n",
              "      <th>4134</th>\n",
              "      <td>17382</td>\n",
              "      <td>2015-06-25 06:00:00</td>\n",
              "      <td>-13.6</td>\n",
              "      <td>-21.4</td>\n",
              "      <td>1011.0</td>\n",
              "      <td>4.770</td>\n",
              "      <td>A</td>\n",
              "    </tr>\n",
              "    <tr>\n",
              "      <th>4153</th>\n",
              "      <td>17401</td>\n",
              "      <td>2015-06-26 01:00:00</td>\n",
              "      <td>-13.6</td>\n",
              "      <td>-17.9</td>\n",
              "      <td>1011.0</td>\n",
              "      <td>2.515</td>\n",
              "      <td>A</td>\n",
              "    </tr>\n",
              "    <tr>\n",
              "      <th>4166</th>\n",
              "      <td>17414</td>\n",
              "      <td>2015-06-26 14:00:00</td>\n",
              "      <td>-7.1</td>\n",
              "      <td>-14.3</td>\n",
              "      <td>1011.0</td>\n",
              "      <td>5.825</td>\n",
              "      <td>A</td>\n",
              "    </tr>\n",
              "    <tr>\n",
              "      <th>4175</th>\n",
              "      <td>17423</td>\n",
              "      <td>2015-06-26 23:00:00</td>\n",
              "      <td>-14.3</td>\n",
              "      <td>-16.4</td>\n",
              "      <td>1011.0</td>\n",
              "      <td>2.540</td>\n",
              "      <td>A</td>\n",
              "    </tr>\n",
              "    <tr>\n",
              "      <th>4234</th>\n",
              "      <td>17482</td>\n",
              "      <td>2015-06-29 10:00:00</td>\n",
              "      <td>-7.9</td>\n",
              "      <td>-16.4</td>\n",
              "      <td>1011.0</td>\n",
              "      <td>66.560</td>\n",
              "      <td>A</td>\n",
              "    </tr>\n",
              "    <tr>\n",
              "      <th>4243</th>\n",
              "      <td>17491</td>\n",
              "      <td>2015-06-29 19:00:00</td>\n",
              "      <td>-7.1</td>\n",
              "      <td>-19.3</td>\n",
              "      <td>1011.0</td>\n",
              "      <td>148.310</td>\n",
              "      <td>A</td>\n",
              "    </tr>\n",
              "    <tr>\n",
              "      <th>4631</th>\n",
              "      <td>18983</td>\n",
              "      <td>2015-08-30 23:00:00</td>\n",
              "      <td>-5.0</td>\n",
              "      <td>-16.4</td>\n",
              "      <td>1011.0</td>\n",
              "      <td>16.385</td>\n",
              "      <td>A</td>\n",
              "    </tr>\n",
              "    <tr>\n",
              "      <th>6284</th>\n",
              "      <td>26156</td>\n",
              "      <td>2016-06-24 20:00:00</td>\n",
              "      <td>-4.3</td>\n",
              "      <td>-19.3</td>\n",
              "      <td>1011.0</td>\n",
              "      <td>91.435</td>\n",
              "      <td>A</td>\n",
              "    </tr>\n",
              "    <tr>\n",
              "      <th>6488</th>\n",
              "      <td>26912</td>\n",
              "      <td>2016-07-26 08:00:00</td>\n",
              "      <td>-7.9</td>\n",
              "      <td>-11.4</td>\n",
              "      <td>1011.0</td>\n",
              "      <td>13.580</td>\n",
              "      <td>A</td>\n",
              "    </tr>\n",
              "    <tr>\n",
              "      <th>8388</th>\n",
              "      <td>34332</td>\n",
              "      <td>2017-05-31 12:00:00</td>\n",
              "      <td>-4.3</td>\n",
              "      <td>-18.6</td>\n",
              "      <td>1011.0</td>\n",
              "      <td>314.505</td>\n",
              "      <td>A</td>\n",
              "    </tr>\n",
              "    <tr>\n",
              "      <th>8400</th>\n",
              "      <td>34896</td>\n",
              "      <td>2017-06-24 00:00:00</td>\n",
              "      <td>-2.9</td>\n",
              "      <td>-15.0</td>\n",
              "      <td>1011.0</td>\n",
              "      <td>76.925</td>\n",
              "      <td>A</td>\n",
              "    </tr>\n",
              "    <tr>\n",
              "      <th>8407</th>\n",
              "      <td>34903</td>\n",
              "      <td>2017-06-24 07:00:00</td>\n",
              "      <td>-7.1</td>\n",
              "      <td>-12.9</td>\n",
              "      <td>1011.0</td>\n",
              "      <td>5.080</td>\n",
              "      <td>A</td>\n",
              "    </tr>\n",
              "    <tr>\n",
              "      <th>8414</th>\n",
              "      <td>34910</td>\n",
              "      <td>2017-06-24 14:00:00</td>\n",
              "      <td>0.0</td>\n",
              "      <td>-11.4</td>\n",
              "      <td>1011.0</td>\n",
              "      <td>3.665</td>\n",
              "      <td>A</td>\n",
              "    </tr>\n",
              "    <tr>\n",
              "      <th>8424</th>\n",
              "      <td>34920</td>\n",
              "      <td>2017-06-25 00:00:00</td>\n",
              "      <td>-6.4</td>\n",
              "      <td>-10.7</td>\n",
              "      <td>1011.0</td>\n",
              "      <td>6.345</td>\n",
              "      <td>A</td>\n",
              "    </tr>\n",
              "    <tr>\n",
              "      <th>8555</th>\n",
              "      <td>35051</td>\n",
              "      <td>2017-06-30 11:00:00</td>\n",
              "      <td>-5.7</td>\n",
              "      <td>-17.1</td>\n",
              "      <td>1011.0</td>\n",
              "      <td>171.915</td>\n",
              "      <td>A</td>\n",
              "    </tr>\n",
              "  </tbody>\n",
              "</table>\n",
              "</div>"
            ],
            "text/plain": [
              "         ID             datetime  temperature  var1  pressure  windspeed var2\n",
              "0       552  2013-07-24 00:00:00        -10.0 -16.4    1011.0    263.280    A\n",
              "1       553  2013-07-24 01:00:00        -10.0 -20.7    1011.0    267.175    A\n",
              "18      570  2013-07-24 18:00:00         -7.1 -17.1    1011.0     10.390    A\n",
              "43      595  2013-07-25 19:00:00         -6.4 -20.0    1011.0      4.005    A\n",
              "90      642  2013-07-27 18:00:00         -7.1 -20.7    1011.0     13.595    A\n",
              "93      645  2013-07-27 21:00:00         -7.1 -20.0    1011.0      7.760    A\n",
              "106     658  2013-07-28 10:00:00         -6.4 -19.3    1011.0     10.715    A\n",
              "114     666  2013-07-28 18:00:00         -6.4 -20.0    1011.0     67.935    A\n",
              "120     672  2013-07-29 00:00:00         -7.9 -18.6    1011.0     94.290    A\n",
              "140     692  2013-07-29 20:00:00         -7.9 -18.6    1011.0     61.600    A\n",
              "529    2185  2013-09-30 01:00:00         -2.1  -1.4    1011.0      5.770    A\n",
              "1610   7130  2014-04-24 02:00:00         -2.9  -5.0    1011.0      2.765    A\n",
              "1926   7998  2014-05-30 06:00:00         -7.1 -10.7    1011.0      7.435    A\n",
              "1955   8027  2014-05-31 11:00:00         -1.4  -7.1    1011.0      3.670    A\n",
              "1990   8614  2014-06-24 22:00:00         -7.1 -11.4    1011.0      3.165    A\n",
              "1994   8618  2014-06-25 02:00:00        -10.0 -11.4    1011.0      1.890    A\n",
              "2005   8629  2014-06-25 13:00:00         -3.6 -12.9    1011.0      3.530    A\n",
              "2064   8688  2014-06-28 00:00:00         -7.9  -8.6    1011.0      2.140    A\n",
              "2272   9448  2014-07-29 16:00:00         -5.0 -15.0    1011.0      3.930    A\n",
              "2292   9468  2014-07-30 12:00:00         -9.3 -10.7    1011.0      6.370    B\n",
              "2361  10089  2014-08-25 09:00:00         -4.3 -17.1    1011.0     61.340    A\n",
              "4125  17373  2015-06-24 21:00:00        -10.7 -18.6    1011.0     31.465    A\n",
              "4134  17382  2015-06-25 06:00:00        -13.6 -21.4    1011.0      4.770    A\n",
              "4153  17401  2015-06-26 01:00:00        -13.6 -17.9    1011.0      2.515    A\n",
              "4166  17414  2015-06-26 14:00:00         -7.1 -14.3    1011.0      5.825    A\n",
              "4175  17423  2015-06-26 23:00:00        -14.3 -16.4    1011.0      2.540    A\n",
              "4234  17482  2015-06-29 10:00:00         -7.9 -16.4    1011.0     66.560    A\n",
              "4243  17491  2015-06-29 19:00:00         -7.1 -19.3    1011.0    148.310    A\n",
              "4631  18983  2015-08-30 23:00:00         -5.0 -16.4    1011.0     16.385    A\n",
              "6284  26156  2016-06-24 20:00:00         -4.3 -19.3    1011.0     91.435    A\n",
              "6488  26912  2016-07-26 08:00:00         -7.9 -11.4    1011.0     13.580    A\n",
              "8388  34332  2017-05-31 12:00:00         -4.3 -18.6    1011.0    314.505    A\n",
              "8400  34896  2017-06-24 00:00:00         -2.9 -15.0    1011.0     76.925    A\n",
              "8407  34903  2017-06-24 07:00:00         -7.1 -12.9    1011.0      5.080    A\n",
              "8414  34910  2017-06-24 14:00:00          0.0 -11.4    1011.0      3.665    A\n",
              "8424  34920  2017-06-25 00:00:00         -6.4 -10.7    1011.0      6.345    A\n",
              "8555  35051  2017-06-30 11:00:00         -5.7 -17.1    1011.0    171.915    A"
            ]
          },
          "metadata": {
            "tags": []
          },
          "execution_count": 29
        }
      ]
    },
    {
      "cell_type": "code",
      "metadata": {
        "colab": {
          "base_uri": "https://localhost:8080/"
        },
        "id": "u2U5S7Vul0m6",
        "outputId": "9a58f533-acd6-47f9-b1fb-2eb1c2afd816"
      },
      "source": [
        "e.shape"
      ],
      "execution_count": 30,
      "outputs": [
        {
          "output_type": "execute_result",
          "data": {
            "text/plain": [
              "(37, 7)"
            ]
          },
          "metadata": {
            "tags": []
          },
          "execution_count": 30
        }
      ]
    },
    {
      "cell_type": "markdown",
      "metadata": {
        "id": "Lpl2fPYM_oPj"
      },
      "source": [
        "#***DATA SLICING***\r\n",
        "\r\n",
        "---\r\n",
        "\r\n"
      ]
    },
    {
      "cell_type": "markdown",
      "metadata": {
        "id": "_AT45gmWA51s"
      },
      "source": [
        "Slicing 1 column from a given dataframe"
      ]
    },
    {
      "cell_type": "code",
      "metadata": {
        "colab": {
          "base_uri": "https://localhost:8080/"
        },
        "id": "TQb96bBq_vki",
        "outputId": "c64cadee-777b-446c-c3e5-4ad0da4bf7ed"
      },
      "source": [
        "a['temperature']"
      ],
      "execution_count": 19,
      "outputs": [
        {
          "output_type": "execute_result",
          "data": {
            "text/plain": [
              "0      -10.0\n",
              "1      -10.0\n",
              "2      -10.7\n",
              "3      -13.6\n",
              "4      -10.7\n",
              "        ... \n",
              "8563    -5.7\n",
              "8564    -5.7\n",
              "8565    -7.1\n",
              "8566    -6.4\n",
              "8567    -5.0\n",
              "Name: temperature, Length: 8568, dtype: float64"
            ]
          },
          "metadata": {
            "tags": []
          },
          "execution_count": 19
        }
      ]
    },
    {
      "cell_type": "markdown",
      "metadata": {
        "id": "vJUGMuzXBV1v"
      },
      "source": [
        "Slicing column as dataframe from a given dataframe"
      ]
    },
    {
      "cell_type": "code",
      "metadata": {
        "colab": {
          "base_uri": "https://localhost:8080/",
          "height": 424
        },
        "id": "Fij3EdbVBamX",
        "outputId": "e96df443-3e13-4299-d0aa-661dd4ce79ab"
      },
      "source": [
        "a[['temperature']]"
      ],
      "execution_count": 22,
      "outputs": [
        {
          "output_type": "execute_result",
          "data": {
            "text/html": [
              "<div>\n",
              "<style scoped>\n",
              "    .dataframe tbody tr th:only-of-type {\n",
              "        vertical-align: middle;\n",
              "    }\n",
              "\n",
              "    .dataframe tbody tr th {\n",
              "        vertical-align: top;\n",
              "    }\n",
              "\n",
              "    .dataframe thead th {\n",
              "        text-align: right;\n",
              "    }\n",
              "</style>\n",
              "<table border=\"1\" class=\"dataframe\">\n",
              "  <thead>\n",
              "    <tr style=\"text-align: right;\">\n",
              "      <th></th>\n",
              "      <th>temperature</th>\n",
              "    </tr>\n",
              "  </thead>\n",
              "  <tbody>\n",
              "    <tr>\n",
              "      <th>0</th>\n",
              "      <td>-10.0</td>\n",
              "    </tr>\n",
              "    <tr>\n",
              "      <th>1</th>\n",
              "      <td>-10.0</td>\n",
              "    </tr>\n",
              "    <tr>\n",
              "      <th>2</th>\n",
              "      <td>-10.7</td>\n",
              "    </tr>\n",
              "    <tr>\n",
              "      <th>3</th>\n",
              "      <td>-13.6</td>\n",
              "    </tr>\n",
              "    <tr>\n",
              "      <th>4</th>\n",
              "      <td>-10.7</td>\n",
              "    </tr>\n",
              "    <tr>\n",
              "      <th>...</th>\n",
              "      <td>...</td>\n",
              "    </tr>\n",
              "    <tr>\n",
              "      <th>8563</th>\n",
              "      <td>-5.7</td>\n",
              "    </tr>\n",
              "    <tr>\n",
              "      <th>8564</th>\n",
              "      <td>-5.7</td>\n",
              "    </tr>\n",
              "    <tr>\n",
              "      <th>8565</th>\n",
              "      <td>-7.1</td>\n",
              "    </tr>\n",
              "    <tr>\n",
              "      <th>8566</th>\n",
              "      <td>-6.4</td>\n",
              "    </tr>\n",
              "    <tr>\n",
              "      <th>8567</th>\n",
              "      <td>-5.0</td>\n",
              "    </tr>\n",
              "  </tbody>\n",
              "</table>\n",
              "<p>8568 rows × 1 columns</p>\n",
              "</div>"
            ],
            "text/plain": [
              "      temperature\n",
              "0           -10.0\n",
              "1           -10.0\n",
              "2           -10.7\n",
              "3           -13.6\n",
              "4           -10.7\n",
              "...           ...\n",
              "8563         -5.7\n",
              "8564         -5.7\n",
              "8565         -7.1\n",
              "8566         -6.4\n",
              "8567         -5.0\n",
              "\n",
              "[8568 rows x 1 columns]"
            ]
          },
          "metadata": {
            "tags": []
          },
          "execution_count": 22
        }
      ]
    },
    {
      "cell_type": "markdown",
      "metadata": {
        "id": "gGCiZDdpBAlb"
      },
      "source": [
        "Slicing multilple columns as dataframe from a given dataframe"
      ]
    },
    {
      "cell_type": "code",
      "metadata": {
        "colab": {
          "base_uri": "https://localhost:8080/",
          "height": 424
        },
        "id": "mhwF7uuMBAAY",
        "outputId": "013f0704-6be2-48af-e8da-8896336dff6c"
      },
      "source": [
        "a[['temperature','pressure']]"
      ],
      "execution_count": 21,
      "outputs": [
        {
          "output_type": "execute_result",
          "data": {
            "text/html": [
              "<div>\n",
              "<style scoped>\n",
              "    .dataframe tbody tr th:only-of-type {\n",
              "        vertical-align: middle;\n",
              "    }\n",
              "\n",
              "    .dataframe tbody tr th {\n",
              "        vertical-align: top;\n",
              "    }\n",
              "\n",
              "    .dataframe thead th {\n",
              "        text-align: right;\n",
              "    }\n",
              "</style>\n",
              "<table border=\"1\" class=\"dataframe\">\n",
              "  <thead>\n",
              "    <tr style=\"text-align: right;\">\n",
              "      <th></th>\n",
              "      <th>temperature</th>\n",
              "      <th>pressure</th>\n",
              "    </tr>\n",
              "  </thead>\n",
              "  <tbody>\n",
              "    <tr>\n",
              "      <th>0</th>\n",
              "      <td>-10.0</td>\n",
              "      <td>1011.0</td>\n",
              "    </tr>\n",
              "    <tr>\n",
              "      <th>1</th>\n",
              "      <td>-10.0</td>\n",
              "      <td>1011.0</td>\n",
              "    </tr>\n",
              "    <tr>\n",
              "      <th>2</th>\n",
              "      <td>-10.7</td>\n",
              "      <td>1003.0</td>\n",
              "    </tr>\n",
              "    <tr>\n",
              "      <th>3</th>\n",
              "      <td>-13.6</td>\n",
              "      <td>1008.0</td>\n",
              "    </tr>\n",
              "    <tr>\n",
              "      <th>4</th>\n",
              "      <td>-10.7</td>\n",
              "      <td>1006.0</td>\n",
              "    </tr>\n",
              "    <tr>\n",
              "      <th>...</th>\n",
              "      <td>...</td>\n",
              "      <td>...</td>\n",
              "    </tr>\n",
              "    <tr>\n",
              "      <th>8563</th>\n",
              "      <td>-5.7</td>\n",
              "      <td>998.0</td>\n",
              "    </tr>\n",
              "    <tr>\n",
              "      <th>8564</th>\n",
              "      <td>-5.7</td>\n",
              "      <td>995.0</td>\n",
              "    </tr>\n",
              "    <tr>\n",
              "      <th>8565</th>\n",
              "      <td>-7.1</td>\n",
              "      <td>1004.0</td>\n",
              "    </tr>\n",
              "    <tr>\n",
              "      <th>8566</th>\n",
              "      <td>-6.4</td>\n",
              "      <td>1008.0</td>\n",
              "    </tr>\n",
              "    <tr>\n",
              "      <th>8567</th>\n",
              "      <td>-5.0</td>\n",
              "      <td>1001.0</td>\n",
              "    </tr>\n",
              "  </tbody>\n",
              "</table>\n",
              "<p>8568 rows × 2 columns</p>\n",
              "</div>"
            ],
            "text/plain": [
              "      temperature  pressure\n",
              "0           -10.0    1011.0\n",
              "1           -10.0    1011.0\n",
              "2           -10.7    1003.0\n",
              "3           -13.6    1008.0\n",
              "4           -10.7    1006.0\n",
              "...           ...       ...\n",
              "8563         -5.7     998.0\n",
              "8564         -5.7     995.0\n",
              "8565         -7.1    1004.0\n",
              "8566         -6.4    1008.0\n",
              "8567         -5.0    1001.0\n",
              "\n",
              "[8568 rows x 2 columns]"
            ]
          },
          "metadata": {
            "tags": []
          },
          "execution_count": 21
        }
      ]
    },
    {
      "cell_type": "code",
      "metadata": {
        "colab": {
          "base_uri": "https://localhost:8080/",
          "height": 424
        },
        "id": "Tog24VjgMVoO",
        "outputId": "dd29be90-c756-403a-ce6f-4c51796be789"
      },
      "source": [
        "a.iloc[:,0:1]\r\n"
      ],
      "execution_count": 25,
      "outputs": [
        {
          "output_type": "execute_result",
          "data": {
            "text/html": [
              "<div>\n",
              "<style scoped>\n",
              "    .dataframe tbody tr th:only-of-type {\n",
              "        vertical-align: middle;\n",
              "    }\n",
              "\n",
              "    .dataframe tbody tr th {\n",
              "        vertical-align: top;\n",
              "    }\n",
              "\n",
              "    .dataframe thead th {\n",
              "        text-align: right;\n",
              "    }\n",
              "</style>\n",
              "<table border=\"1\" class=\"dataframe\">\n",
              "  <thead>\n",
              "    <tr style=\"text-align: right;\">\n",
              "      <th></th>\n",
              "      <th>ID</th>\n",
              "    </tr>\n",
              "  </thead>\n",
              "  <tbody>\n",
              "    <tr>\n",
              "      <th>0</th>\n",
              "      <td>552</td>\n",
              "    </tr>\n",
              "    <tr>\n",
              "      <th>1</th>\n",
              "      <td>553</td>\n",
              "    </tr>\n",
              "    <tr>\n",
              "      <th>2</th>\n",
              "      <td>554</td>\n",
              "    </tr>\n",
              "    <tr>\n",
              "      <th>3</th>\n",
              "      <td>555</td>\n",
              "    </tr>\n",
              "    <tr>\n",
              "      <th>4</th>\n",
              "      <td>556</td>\n",
              "    </tr>\n",
              "    <tr>\n",
              "      <th>...</th>\n",
              "      <td>...</td>\n",
              "    </tr>\n",
              "    <tr>\n",
              "      <th>8563</th>\n",
              "      <td>35059</td>\n",
              "    </tr>\n",
              "    <tr>\n",
              "      <th>8564</th>\n",
              "      <td>35060</td>\n",
              "    </tr>\n",
              "    <tr>\n",
              "      <th>8565</th>\n",
              "      <td>35061</td>\n",
              "    </tr>\n",
              "    <tr>\n",
              "      <th>8566</th>\n",
              "      <td>35062</td>\n",
              "    </tr>\n",
              "    <tr>\n",
              "      <th>8567</th>\n",
              "      <td>35063</td>\n",
              "    </tr>\n",
              "  </tbody>\n",
              "</table>\n",
              "<p>8568 rows × 1 columns</p>\n",
              "</div>"
            ],
            "text/plain": [
              "         ID\n",
              "0       552\n",
              "1       553\n",
              "2       554\n",
              "3       555\n",
              "4       556\n",
              "...     ...\n",
              "8563  35059\n",
              "8564  35060\n",
              "8565  35061\n",
              "8566  35062\n",
              "8567  35063\n",
              "\n",
              "[8568 rows x 1 columns]"
            ]
          },
          "metadata": {
            "tags": []
          },
          "execution_count": 25
        }
      ]
    },
    {
      "cell_type": "markdown",
      "metadata": {
        "id": "4dQ1XvJDSZKH"
      },
      "source": [
        " ***TILL NOW WE DEALT WITH PANDA LIBRARY, NEXT WE WILL DEAL WITH VISUALIZATION METHODS***\r\n",
        "\r\n",
        "---\r\n",
        "\r\n"
      ]
    }
  ]
}